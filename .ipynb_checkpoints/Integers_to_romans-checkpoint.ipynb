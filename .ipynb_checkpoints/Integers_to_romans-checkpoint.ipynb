{
 "cells": [
  {
   "cell_type": "markdown",
   "id": "north-graphics",
   "metadata": {},
   "source": [
    "# Converting arabic number into roman numbers  &nbsp;\n",
    "\n",
    "<img src=\"Roman.webp\"\n",
    "     alt=\"Perceptron img\"\n",
    "     style=\"float: center; max-width: 45%;\" /> \n",
    "     \n",
    "<h5 style=\"text-align: center;\">Conversion table</h5>"
   ]
  },
  {
   "cell_type": "code",
   "execution_count": null,
   "id": "active-frost",
   "metadata": {},
   "outputs": [],
   "source": [
    "def convert_to_roman(input):\n",
    "    # Equivalence between roman numeral and arabic numbers\n",
    "    romans = {'I': 1,\n",
    "             'V': 5,\n",
    "             'X': 10,\n",
    "             'L': 50,\n",
    "             'C': 100,\n",
    "             'D': 500,\n",
    "             'M': 1000}\n",
    "    \n",
    "    # How many times our input contains each value of the numeral?\n",
    "    # After we update input\n",
    "    values = {}\n",
    "    for key in reversed(romans):\n",
    "        values[key] = input // romans[key]\n",
    "        input -= values[key] * romans[key]\n",
    "    \n",
    "    # Creating an empty string where we add roman numerals\n",
    "    output = ''\n",
    "    index = 0\n",
    "    keys = list(values)\n",
    "    \n",
    "    # For loop to create the roman number\n",
    "    for key, value in values.items():\n",
    "        # We can append as many 'M' as needed\n",
    "        if key == 'M':\n",
    "            output += key * value\n",
    "        # For the  rest of letters things does not work like that, since\n",
    "        # a letter can not be repeated more than 3 consecutive times\n",
    "        else:\n",
    "            if value == 4 and prevopus_val > 0:\n",
    "                output = output[:-1]\n",
    "                output += key * 1\n",
    "                output += keys[index-2] * 1\n",
    "            elif value == 4:\n",
    "                output = output[:-1]\n",
    "                output += key * 1\n",
    "                output += keys[index-1] * 1\n",
    "            else:\n",
    "                output += key * value\n",
    "        previous_val = value\n",
    "        index += 1\n",
    "    return output"
   ]
  },
  {
   "cell_type": "code",
   "execution_count": null,
   "id": "meaningful-stock",
   "metadata": {},
   "outputs": [],
   "source": [
    "convert_to_roman(2021)"
   ]
  }
 ],
 "metadata": {
  "kernelspec": {
   "display_name": "Python 3",
   "language": "python",
   "name": "python3"
  },
  "language_info": {
   "codemirror_mode": {
    "name": "ipython",
    "version": 3
   },
   "file_extension": ".py",
   "mimetype": "text/x-python",
   "name": "python",
   "nbconvert_exporter": "python",
   "pygments_lexer": "ipython3",
   "version": "3.8.5"
  }
 },
 "nbformat": 4,
 "nbformat_minor": 5
}
